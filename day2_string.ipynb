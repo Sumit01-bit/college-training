age = 10
# text = "my age is " +age
text = f"my age is  {age}"
print(text)

print('this is "my" name')
print("this is my \"name\"")