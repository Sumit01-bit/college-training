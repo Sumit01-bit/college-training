{
 "cells": [
  {
   "cell_type": "code",
   "execution_count": 18,
   "id": "91e13922",
   "metadata": {},
   "outputs": [
    {
     "name": "stdout",
     "output_type": "stream",
     "text": [
      "{'name': ['world', 'sumit'], 'age': 20, 'hobby': 'basketball'}\n"
     ]
    }
   ],
   "source": [
    "dt = {\n",
    "    \"name\": [\"world\", \"sumit\"],\n",
    "    \"age\": 20,\n",
    "    # \"age\": 30,  # This line is commented, so it has no effect\n",
    "    \"hobby\": \"coding\"\n",
    "}\n",
    "dt[\"hobby\"] = \"gaming\"  # This updates the value of \"hobby\"\n",
    "# print(type(dt))\n",
    "# dt.get(\"age\")\n",
    "# dt.items()\n",
    "dt.values()\n",
    "dt.update({\"hobby\": \"basketball\"})  # Correct update syntax\n",
    "print(dt)\n"
   ]
  },
  {
   "cell_type": "code",
   "execution_count": 19,
   "id": "895e7781",
   "metadata": {},
   "outputs": [
    {
     "name": "stdout",
     "output_type": "stream",
     "text": [
      "{'a': 1, 'b': 2}\n"
     ]
    }
   ],
   "source": [
    "dt = {\"a\":1}\n",
    "value = dt.setdefault(\"b\",2)\n",
    "print(dt)"
   ]
  },
  {
   "cell_type": "code",
   "execution_count": 24,
   "id": "b840494d",
   "metadata": {},
   "outputs": [
    {
     "name": "stdout",
     "output_type": "stream",
     "text": [
      "{'h': 10, 'e': 10, 'l': 10, '0': 10}\n"
     ]
    }
   ],
   "source": [
    "dt = {}.fromkeys(\"hell0\",10)\n",
    "print(dt)"
   ]
  }
 ],
 "metadata": {
  "kernelspec": {
   "display_name": "base",
   "language": "python",
   "name": "python3"
  },
  "language_info": {
   "codemirror_mode": {
    "name": "ipython",
    "version": 3
   },
   "file_extension": ".py",
   "mimetype": "text/x-python",
   "name": "python",
   "nbconvert_exporter": "python",
   "pygments_lexer": "ipython3",
   "version": "3.12.7"
  }
 },
 "nbformat": 4,
 "nbformat_minor": 5
}
