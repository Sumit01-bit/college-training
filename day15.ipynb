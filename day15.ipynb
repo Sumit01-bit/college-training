{
 "cells": [
  {
   "cell_type": "code",
   "execution_count": 8,
   "id": "95657b39",
   "metadata": {},
   "outputs": [
    {
     "data": {
      "text/plain": [
       "DeltaGenerator()"
      ]
     },
     "execution_count": 8,
     "metadata": {},
     "output_type": "execute_result"
    }
   ],
   "source": [
    "##streamlit\n",
    "##python lib\n",
    "##webpages for ml and data sci projects\n",
    "#html and css no requiremnts\n",
    "import streamlit as st\n",
    "import pandas as pd\n",
    "import numpy as np\n",
    "import matplotlib.pyplot as plt\n",
    "import seaborn as sns\n",
    "\n",
    "st.title('Streamlit Example')\n"
   ]
  },
  {
   "cell_type": "code",
   "execution_count": 1,
   "id": "3764fa4e",
   "metadata": {},
   "outputs": [
    {
     "name": "stderr",
     "output_type": "stream",
     "text": [
      "2025-06-27 09:52:18.326 \n",
      "  \u001b[33m\u001b[1mWarning:\u001b[0m to view this Streamlit app on a browser, run it with the following\n",
      "  command:\n",
      "\n",
      "    streamlit run c:\\Users\\CC\\anaconda3\\Lib\\site-packages\\ipykernel_launcher.py [ARGUMENTS]\n"
     ]
    },
    {
     "data": {
      "text/plain": [
       "DeltaGenerator()"
      ]
     },
     "execution_count": 1,
     "metadata": {},
     "output_type": "execute_result"
    }
   ],
   "source": [
    "import streamlit as st\n",
    "import pandas as pd\n",
    "import numpy as np\n",
    "import matplotlib.pyplot as plt\n",
    "import seaborn as sns\n",
    "import altair as alt  # ✅ Required for Altair chart\n",
    "\n",
    "# Page configuration\n",
    "st.set_page_config(\n",
    "    page_title=\"Streamlit Example\",\n",
    "    page_icon=\"😎\",\n",
    "    layout=\"centered\"\n",
    ")\n",
    "\n",
    "# Section 1: Titles and Text\n",
    "st.title(\"Hello World\")\n",
    "st.header(\"This is a header\")\n",
    "st.subheader(\"This is a subheader\")\n",
    "st.markdown(\"This is a *markdown* text\")\n",
    "st.code(\"print('Hello, World!')\", language='python')\n",
    "st.latex(r\"a^2 + b^2 = c^2\")\n",
    "\n",
    "st.divider()\n",
    "\n",
    "# Section 2: Notifications and Metrics\n",
    "st.header(\"Streamlit Example\")\n",
    "st.metric(label=\"Revenue\", value=12345, delta=\"+10%\", delta_color=\"inverse\")\n",
    "st.error(\"This is an error message\")\n",
    "st.warning(\"This is a warning message\")\n",
    "st.info(\"This is an info message\")\n",
    "st.success(\"This is a success message\")\n",
    "\n",
    "# Section 3: Data Display\n",
    "st.header(\"3. Data Display\")\n",
    "df = pd.DataFrame(np.random.randn(10, 3), columns=['A', 'B', 'C'])\n",
    "st.dataframe(df)\n",
    "st.table(df.head(3))\n",
    "st.json(df.to_dict())\n",
    "\n",
    "# Section 4: Charts\n",
    "st.header(\"4. Charts\")\n",
    "\n",
    "# Built-in charts\n",
    "st.line_chart(df)\n",
    "st.bar_chart(df)\n",
    "st.area_chart(df)\n",
    "\n",
    "# Altair chart\n",
    "alt_chart = alt.Chart(df.reset_index()).mark_line().encode(\n",
    "    x='index',\n",
    "    y='A'\n",
    ")\n",
    "st.altair_chart(alt_chart, use_container_width=True)\n",
    "\n",
    "# Matplotlib chart\n",
    "fig, ax = plt.subplots()\n",
    "ax.plot(df.index, df['A'], label='A')\n",
    "ax.set_title('Matplotlib Line Plot')\n",
    "ax.legend()\n",
    "st.pyplot(fig)\n",
    "\n",
    "st.divider()\n",
    "st.title('Streamlit Example')"
   ]
  }
 ],
 "metadata": {
  "kernelspec": {
   "display_name": "base",
   "language": "python",
   "name": "python3"
  },
  "language_info": {
   "codemirror_mode": {
    "name": "ipython",
    "version": 3
   },
   "file_extension": ".py",
   "mimetype": "text/x-python",
   "name": "python",
   "nbconvert_exporter": "python",
   "pygments_lexer": "ipython3",
   "version": "3.12.7"
  }
 },
 "nbformat": 4,
 "nbformat_minor": 5
}
