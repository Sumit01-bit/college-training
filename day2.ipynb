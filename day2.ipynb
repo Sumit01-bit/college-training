{
 "cells": [
  {
   "cell_type": "markdown",
   "id": "668f581f",
   "metadata": {},
   "source": [
    "# List"
   ]
  },
  {
   "cell_type": "code",
   "execution_count": 1,
   "id": "3cc115ce",
   "metadata": {},
   "outputs": [],
   "source": [
    "##list-- ordered ,mutuable , allow dublicates values , heterogenous"
   ]
  },
  {
   "cell_type": "code",
   "execution_count": 2,
   "id": "def4a9c4",
   "metadata": {},
   "outputs": [
    {
     "name": "stdout",
     "output_type": "stream",
     "text": [
      "[1, 2.1, 'hello', True, 'sumit']\n",
      "<class 'list'>\n"
     ]
    }
   ],
   "source": [
    "list = [1,2.1,\"hello\",True , \"sumit\"]\n",
    "print(list)\n",
    "print(type(list))"
   ]
  },
  {
   "cell_type": "code",
   "execution_count": null,
   "id": "c8f5bb23",
   "metadata": {},
   "outputs": [
    {
     "name": "stdout",
     "output_type": "stream",
     "text": [
      "[2.1, 'hello', True]\n"
     ]
    }
   ],
   "source": [
    "list = [1,2.1,\"hello\",True , \"sumit\"]\n",
    "print(list[1:4])\n",
    "#this is slicing"
   ]
  },
  {
   "cell_type": "code",
   "execution_count": 13,
   "id": "b49aef5e",
   "metadata": {},
   "outputs": [
    {
     "name": "stdout",
     "output_type": "stream",
     "text": [
      "sumit\n"
     ]
    }
   ],
   "source": [
    "list = [1,2.1,\"hello\",True , \"sumit\"]\n",
    "print(list[-1])\n",
    "#this is indexing"
   ]
  },
  {
   "cell_type": "code",
   "execution_count": 4,
   "id": "710e9453",
   "metadata": {},
   "outputs": [
    {
     "name": "stdout",
     "output_type": "stream",
     "text": [
      "['red', 'black', 2, 'Blue']\n"
     ]
    }
   ],
   "source": [
    "list = [\"red\" , \"black\" , \"green\" , \"Blue\"]\n",
    "list[2] = 2\n",
    "print(list)\n",
    "#this is the immutablility of list"
   ]
  },
  {
   "cell_type": "code",
   "execution_count": 15,
   "id": "6b615559",
   "metadata": {},
   "outputs": [
    {
     "name": "stdout",
     "output_type": "stream",
     "text": [
      "sumit\n"
     ]
    }
   ],
   "source": [
    "list = [\"red\", \"black\", \"green\", \"Blue\"]\n",
    "list[2] = [\"sumit\",10]\n",
    "print(list[2][0])"
   ]
  },
  {
   "cell_type": "code",
   "execution_count": 21,
   "id": "75a8d2f5",
   "metadata": {},
   "outputs": [
    {
     "name": "stdout",
     "output_type": "stream",
     "text": [
      "6000\n"
     ]
    }
   ],
   "source": [
    "list = [10,20,[30,40,[50,60],70],80]\n",
    "list[2][2][1] = 6000 \n",
    "print(list[2][2][1])\n"
   ]
  },
  {
   "cell_type": "code",
   "execution_count": 63,
   "id": "7b93337f",
   "metadata": {},
   "outputs": [
    {
     "name": "stdout",
     "output_type": "stream",
     "text": [
      "['Blue', 'green', 'black', 'red']\n"
     ]
    }
   ],
   "source": [
    "list = [\"red\", \"black\", \"green\", \"Blue\"]\n",
    "list.count(\"red\")\n",
    "list.index(\"red\")\n",
    "#index me jo phele milega uski index show krega\n",
    "# list2 = list.copy()\n",
    "# print(list2)\n",
    "# list.insert(2,\"white\")\n",
    "# list.append(\"white\")\n",
    "# list.extend([\"white\" , \"black\"])\n",
    "# list.pop(2)\n",
    "# list.sort()\n",
    "# list.sort(reverse=True)\n",
    "print(list[::-1])"
   ]
  },
  {
   "cell_type": "code",
   "execution_count": 71,
   "id": "7f1fd8ed",
   "metadata": {},
   "outputs": [
    {
     "name": "stdout",
     "output_type": "stream",
     "text": [
      "<class 'tuple'>\n",
      "1\n"
     ]
    }
   ],
   "source": [
    "my_tuple = (10, \"hello\", 3.14, \"hello\")\n",
    "print(type(my_tuple))\n",
    "my_tuple.count(10)\n",
    "print(my_tuple.index(\"hello\"))"
   ]
  }
 ],
 "metadata": {
  "kernelspec": {
   "display_name": "base",
   "language": "python",
   "name": "python3"
  },
  "language_info": {
   "codemirror_mode": {
    "name": "ipython",
    "version": 3
   },
   "file_extension": ".py",
   "mimetype": "text/x-python",
   "name": "python",
   "nbconvert_exporter": "python",
   "pygments_lexer": "ipython3",
   "version": "3.12.7"
  }
 },
 "nbformat": 4,
 "nbformat_minor": 5
}
