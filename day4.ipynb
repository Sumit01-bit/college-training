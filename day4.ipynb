{
 "cells": [
  {
   "cell_type": "code",
   "execution_count": null,
   "id": "da3170a8",
   "metadata": {},
   "outputs": [
    {
     "name": "stdout",
     "output_type": "stream",
     "text": [
      "hello\n"
     ]
    }
   ],
   "source": [
    "##error handling\n",
    "## 4 tyes of of blocks :-- try except ,else , finally\n",
    "## try:- it is used for a block of code for error\n",
    "## except:-- it is used to handle errors\n",
    "## else-- it is used to define a block of code to be executed if there is no error\n",
    "## finally-- it is used to define a block of code to be excuted"
   ]
  },
  {
   "cell_type": "code",
   "execution_count": 7,
   "id": "980a40ea",
   "metadata": {},
   "outputs": [
    {
     "name": "stdout",
     "output_type": "stream",
     "text": [
      "list index out of range\n",
      "finally block\n"
     ]
    }
   ],
   "source": [
    "try:\n",
    "    my_list = [10, 20, 30]\n",
    "    print(my_list[5])  # Trying to access index 5 which does not exist\n",
    "except Exception as e:##this exception is used when we don't know no about the error\n",
    "    print(e)\n",
    "    # print(\"zero divisible error\")\n",
    "else:\n",
    "    print(\"else block\")\n",
    "finally:\n",
    "    print(\"finally block\")"
   ]
  },
  {
   "cell_type": "code",
   "execution_count": null,
   "id": "4c3333b5",
   "metadata": {},
   "outputs": [
    {
     "name": "stdout",
     "output_type": "stream",
     "text": [
      "hello\n"
     ]
    }
   ],
   "source": [
    "##function is a block of code that is used to do repeated task and it will excute \n",
    "## only when it is called \n",
    "def hello():\n",
    "        ##block of code\n",
    "        print(\"hello\")\n",
    "hello()##calling the funtion\n"
   ]
  },
  {
   "cell_type": "code",
   "execution_count": 10,
   "id": "47a7bd79",
   "metadata": {},
   "outputs": [
    {
     "name": "stdout",
     "output_type": "stream",
     "text": [
      "30\n"
     ]
    }
   ],
   "source": [
    "def add():\n",
    "    a = 10\n",
    "    b = 20\n",
    "    c = a+b\n",
    "    print(c)\n",
    "add()"
   ]
  },
  {
   "cell_type": "code",
   "execution_count": 11,
   "id": "ab31ed3e",
   "metadata": {},
   "outputs": [
    {
     "name": "stdout",
     "output_type": "stream",
     "text": [
      "300\n"
     ]
    }
   ],
   "source": [
    "def add(a,b):\n",
    "    print(a+b)\n",
    "add(100,200)\n"
   ]
  },
  {
   "cell_type": "code",
   "execution_count": 14,
   "id": "2c88eb97",
   "metadata": {},
   "outputs": [
    {
     "name": "stdout",
     "output_type": "stream",
     "text": [
      "pussy's second child is ronny\n"
     ]
    }
   ],
   "source": [
    "##arbitary arguments \n",
    "def child(*kids):\n",
    "    print(\"pussy's second child is \" + kids[2])\n",
    "child(\"mohan\",\"pussy\",\"ronny\")\n"
   ]
  },
  {
   "cell_type": "code",
   "execution_count": 19,
   "id": "e16f895f",
   "metadata": {},
   "outputs": [
    {
     "name": "stdout",
     "output_type": "stream",
     "text": [
      "my hobby is :-cricket\n",
      "my hobby is :-coding\n"
     ]
    }
   ],
   "source": [
    "def hobby(name=\"coding\"):\n",
    "    print(\"my hobby is :-\" + name)\n",
    "hobby(\"cricket\")\n",
    "hobby()"
   ]
  },
  {
   "cell_type": "code",
   "execution_count": 20,
   "id": "8307c07b",
   "metadata": {},
   "outputs": [
    {
     "name": "stdout",
     "output_type": "stream",
     "text": [
      "mohan\n",
      "sohan\n",
      "gaming\n"
     ]
    }
   ],
   "source": [
    "def lst(name):\n",
    "    for i in name:\n",
    "        print(i)\n",
    "lst ([\"mohan\",\"sohan\",\"gaming\"])"
   ]
  },
  {
   "cell_type": "code",
   "execution_count": 27,
   "id": "c05a3e90",
   "metadata": {},
   "outputs": [
    {
     "name": "stdout",
     "output_type": "stream",
     "text": [
      "The average is:- 25.0\n"
     ]
    }
   ],
   "source": [
    "def avg(a, b, c, d):\n",
    "    temp = (a + b + c + d) / 4\n",
    "    print(\"The average is:-\", temp)\n",
    "\n",
    "avg(10, 20, 30, 40)\n"
   ]
  },
  {
   "cell_type": "code",
   "execution_count": 31,
   "id": "799f5cf8",
   "metadata": {},
   "outputs": [
    {
     "name": "stdout",
     "output_type": "stream",
     "text": [
      "The youngest child is: mohna\n"
     ]
    }
   ],
   "source": [
    "def child(**kids):\n",
    "    print(\"The youngest child is: \" + kids[\"child3\"])\n",
    "\n",
    "child(child3=\"mohna\", child2=\"rohan\", child1=\"pussy\")\n"
   ]
  },
  {
   "cell_type": "code",
   "execution_count": null,
   "id": "fad75d24",
   "metadata": {},
   "outputs": [
    {
     "ename": "TypeError",
     "evalue": "list.append() takes exactly one argument (0 given)",
     "output_type": "error",
     "traceback": [
      "\u001b[1;31m---------------------------------------------------------------------------\u001b[0m",
      "\u001b[1;31mTypeError\u001b[0m                                 Traceback (most recent call last)",
      "Cell \u001b[1;32mIn[51], line 3\u001b[0m\n\u001b[0;32m      1\u001b[0m lst \u001b[38;5;241m=\u001b[39m [[\u001b[38;5;241m1\u001b[39m,\u001b[38;5;241m2\u001b[39m,\u001b[38;5;241m3\u001b[39m],[\u001b[38;5;241m4\u001b[39m,\u001b[38;5;241m5\u001b[39m,\u001b[38;5;241m6\u001b[39m],[\u001b[38;5;241m7\u001b[39m,\u001b[38;5;241m8\u001b[39m,\u001b[38;5;241m9\u001b[39m]]\n\u001b[1;32m----> 3\u001b[0m newlist \u001b[38;5;241m=\u001b[39m [i\u001b[38;5;241m.\u001b[39mappend() \u001b[38;5;28;01mfor\u001b[39;00m i \u001b[38;5;129;01min\u001b[39;00m lst ]\n\u001b[0;32m      4\u001b[0m \u001b[38;5;28mprint\u001b[39m(newlist)\n",
      "\u001b[1;31mTypeError\u001b[0m: list.append() takes exactly one argument (0 given)"
     ]
    }
   ],
   "source": [
    "lst = [[1,2,3],[4,5,6],[7,8,9]]\n",
    "\n",
    "newlist = [i.uper() for i in lst ]\n",
    "print(newlist)\n",
    "##output = [1,2,3,4,5,6,7,8,9]"
   ]
  },
  {
   "cell_type": "code",
   "execution_count": 49,
   "id": "8804aecf",
   "metadata": {},
   "outputs": [
    {
     "name": "stdout",
     "output_type": "stream",
     "text": [
      "[1, 2, 3, 4, 5, 6, 7, 8, 9]\n"
     ]
    }
   ],
   "source": [
    "lst1 = [[1, 2, 3], [4, 5, 6], [7, 8, 9]]\n",
    "\n",
    "newlist = [item for sublist in lst1 for item in sublist]\n",
    "print(newlist)\n"
   ]
  },
  {
   "cell_type": "code",
   "execution_count": 39,
   "id": "a2139c4c",
   "metadata": {},
   "outputs": [
    {
     "name": "stdout",
     "output_type": "stream",
     "text": [
      "['RED', 'BLUE', 'BLACK', 'GREEN']\n"
     ]
    }
   ],
   "source": [
    "## list comprihension is a way to create a new list with less syntax\n",
    "lst = [\"red\",\"blue\",\"black\",\"green\"]\n",
    "newlist = [i.upper() for i in lst]\n",
    "print(newlist)"
   ]
  },
  {
   "cell_type": "code",
   "execution_count": 40,
   "id": "c8320003",
   "metadata": {},
   "outputs": [
    {
     "name": "stdout",
     "output_type": "stream",
     "text": [
      "[2, 4]\n"
     ]
    }
   ],
   "source": [
    "lst = [1, 2, 3, 4, 5]\n",
    "newlist = [i for i in lst if i % 2 == 0]\n",
    "print(newlist)\n"
   ]
  },
  {
   "cell_type": "code",
   "execution_count": 41,
   "id": "e410c814",
   "metadata": {},
   "outputs": [
    {
     "name": "stdout",
     "output_type": "stream",
     "text": [
      "['r', 'b', 'b', 'g']\n"
     ]
    }
   ],
   "source": [
    "lst = [\"red\", \"blue\", \"black\", \"green\"]\n",
    "newlist = [i[0] for i in lst]\n",
    "print(newlist)\n"
   ]
  }
 ],
 "metadata": {
  "kernelspec": {
   "display_name": "base",
   "language": "python",
   "name": "python3"
  },
  "language_info": {
   "codemirror_mode": {
    "name": "ipython",
    "version": 3
   },
   "file_extension": ".py",
   "mimetype": "text/x-python",
   "name": "python",
   "nbconvert_exporter": "python",
   "pygments_lexer": "ipython3",
   "version": "3.12.7"
  }
 },
 "nbformat": 4,
 "nbformat_minor": 5
}
