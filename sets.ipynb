{
 "cells": [
  {
   "cell_type": "code",
   "execution_count": null,
   "id": "866e3130",
   "metadata": {},
   "outputs": [],
   "source": [
    "##sets -{}\n",
    "##unordered, unindexed,no dublicates,mutable"
   ]
  },
  {
   "cell_type": "code",
   "execution_count": null,
   "id": "6e396ec3",
   "metadata": {},
   "outputs": [
    {
     "name": "stdout",
     "output_type": "stream",
     "text": [
      "{1, 2, 3, 4, 5, 'hello'}\n"
     ]
    }
   ],
   "source": [
    "st = {1,2,\"hello\", True , \"sumit\"}\n",
    "# print(type(st))\n",
    "# st.add(\"python\")\n",
    "st.update([1,2,3,4,5])\n",
    "# st.remove(\"sumit\")\n",
    "# st.pop()\n",
    "st.discard(\"sumit\")\n",
    "print(st)"
   ]
  },
  {
   "cell_type": "code",
   "execution_count": null,
   "id": "acf175ee",
   "metadata": {},
   "outputs": [
    {
     "name": "stdout",
     "output_type": "stream",
     "text": [
      "A union B: {1, 2, 3, 4, 5, 6}\n"
     ]
    }
   ],
   "source": [
    "my_set = {1, 2, 3, 4}\n",
    "set_a = {1, 2, 3, 4}\n",
    "set_b = {3, 4, 5, 6}\n",
    "# my_set.add(5)\n",
    "# my_set.update([6, 7])\n",
    "# my_set.remove(7)\n",
    "# print(my_set)\n",
    "print(\"A union B:\", set_a.union(set_b))\n",
    "st.difference\n",
    "st.difference_update\n",
    "st.discard\n",
    "st.intersection\n",
    "st.intersection_update\n",
    "st.symmetric_difference\n",
    "st.symmetric_difference_update\n",
    "st.difference_update\n"
   ]
  }
 ],
 "metadata": {
  "kernelspec": {
   "display_name": "base",
   "language": "python",
   "name": "python3"
  },
  "language_info": {
   "codemirror_mode": {
    "name": "ipython",
    "version": 3
   },
   "file_extension": ".py",
   "mimetype": "text/x-python",
   "name": "python",
   "nbconvert_exporter": "python",
   "pygments_lexer": "ipython3",
   "version": "3.12.7"
  }
 },
 "nbformat": 4,
 "nbformat_minor": 5
}
