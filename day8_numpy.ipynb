{
 "cells": [
  {
   "cell_type": "code",
   "execution_count": null,
   "id": "75544d6b",
   "metadata": {},
   "outputs": [
    {
     "data": {
      "text/plain": [
       "'1.26.4'"
      ]
     },
     "execution_count": 2,
     "metadata": {},
     "output_type": "execute_result"
    }
   ],
   "source": [
    "import numpy as np\n",
    "# np.__version__\n"
   ]
  },
  {
   "cell_type": "code",
   "execution_count": 7,
   "id": "d0160d4a",
   "metadata": {},
   "outputs": [
    {
     "data": {
      "text/plain": [
       "array([1, 2, 3, 4, 5])"
      ]
     },
     "execution_count": 7,
     "metadata": {},
     "output_type": "execute_result"
    }
   ],
   "source": [
    "lst = [1,2,3,4,5]\n",
    "ar1 = np.array(lst)##this is the way to conver the list into array\n",
    "ar1\n",
    "# print(type(ar1))"
   ]
  },
  {
   "cell_type": "code",
   "execution_count": 15,
   "id": "2b746ca9",
   "metadata": {},
   "outputs": [
    {
     "name": "stdout",
     "output_type": "stream",
     "text": [
      "[1 2 3 4 5 6 7 8 9]\n"
     ]
    }
   ],
   "source": [
    "import numpy as np\n",
    "\n",
    "arr2 = np.arange(1, 10)\n",
    "print(arr2)\n"
   ]
  },
  {
   "cell_type": "code",
   "execution_count": null,
   "id": "c97e43b1",
   "metadata": {},
   "outputs": [
    {
     "name": "stdout",
     "output_type": "stream",
     "text": [
      "[[1. 1. 1.]\n",
      " [1. 1. 1.]]\n"
     ]
    }
   ],
   "source": [
    "arr3 = np.ones((2, 3))\n",
    "print(arr3)##this is the creatoin of 2d arry\n"
   ]
  },
  {
   "cell_type": "markdown",
   "id": "83408e95",
   "metadata": {},
   "source": []
  },
  {
   "cell_type": "code",
   "execution_count": 18,
   "id": "03354f17",
   "metadata": {},
   "outputs": [
    {
     "data": {
      "text/plain": [
       "array([1.        , 1.22222222, 1.44444444, 1.66666667, 1.88888889,\n",
       "       2.11111111, 2.33333333, 2.55555556, 2.77777778, 3.        ])"
      ]
     },
     "execution_count": 18,
     "metadata": {},
     "output_type": "execute_result"
    }
   ],
   "source": [
    "arr5 = np.linspace(1,3,10)\n",
    "arr5\n"
   ]
  },
  {
   "cell_type": "code",
   "execution_count": 24,
   "id": "6608a7e7",
   "metadata": {},
   "outputs": [
    {
     "data": {
      "text/plain": [
       "array([[ 1,  2,  3,  4,  5,  6],\n",
       "       [ 7,  8,  9, 10, 11, 12],\n",
       "       [13, 14, 15, 16, 17, 18],\n",
       "       [19, 20, 21, 22, 23, 24],\n",
       "       [25, 26, 27, 28, 29, 30]])"
      ]
     },
     "execution_count": 24,
     "metadata": {},
     "output_type": "execute_result"
    }
   ],
   "source": [
    "## converting 1d arry into 2d arry\n",
    "arr6 = np.arange(1,31).reshape(5,6)##arrage function is used to make 1d array\n",
    "## and the reshape is used to convert the arrary into differnt different shapes\n",
    "arr6"
   ]
  },
  {
   "cell_type": "code",
   "execution_count": null,
   "id": "7873f054",
   "metadata": {},
   "outputs": [
    {
     "data": {
      "text/plain": [
       "array([8.82761423e-01, 4.88535262e-04, 3.59264859e-01, 9.96278990e-01,\n",
       "       1.98212171e-01, 1.73320349e-01, 9.95088011e-01, 3.65736187e-01,\n",
       "       1.95255982e-01, 6.72876478e-01])"
      ]
     },
     "execution_count": 348,
     "metadata": {},
     "output_type": "execute_result"
    }
   ],
   "source": [
    "arr7 = np.random.random(10)\n",
    "arr7## this is how a random array is made"
   ]
  },
  {
   "cell_type": "code",
   "execution_count": 366,
   "id": "b839ba15",
   "metadata": {},
   "outputs": [
    {
     "name": "stdout",
     "output_type": "stream",
     "text": [
      "(6, 10)\n"
     ]
    },
    {
     "data": {
      "text/plain": [
       "(10, 6)"
      ]
     },
     "execution_count": 366,
     "metadata": {},
     "output_type": "execute_result"
    }
   ],
   "source": [
    "arr8 = np.arange(60).reshape(6, 10)\n",
    "print(arr8.shape)\n",
    "# ## this is how a 2d array is made\n",
    "# print(arr8.dtype)\n",
    "# print(arr8.size)\n",
    "# print(arr8.ndim)\n",
    "arr9 = arr8.T.shape\n",
    "arr9\n",
    "\n"
   ]
  },
  {
   "cell_type": "code",
   "execution_count": null,
   "id": "f437c480",
   "metadata": {},
   "outputs": [],
   "source": [
    "arr7 = np.random."
   ]
  },
  {
   "cell_type": "code",
   "execution_count": 362,
   "id": "58100614",
   "metadata": {},
   "outputs": [
    {
     "data": {
      "text/plain": [
       "array([ 0,  1,  2,  3,  4,  5,  6,  7,  8,  9, 10, 11, 12, 13, 14, 15, 16,\n",
       "       17, 18, 19, 20, 21, 22, 23, 24, 25, 26, 27, 28, 29, 30, 31, 32, 33,\n",
       "       34, 35, 36, 37, 38, 39, 40, 41, 42, 43, 44, 45, 46, 47, 48, 49, 50,\n",
       "       51, 52, 53, 54, 55, 56, 57, 58, 59])"
      ]
     },
     "execution_count": 362,
     "metadata": {},
     "output_type": "execute_result"
    }
   ],
   "source": [
    "arr8.ravel()\n",
    "arr8.flatten()"
   ]
  },
  {
   "cell_type": "code",
   "execution_count": 370,
   "id": "cc58d84d",
   "metadata": {},
   "outputs": [
    {
     "name": "stdout",
     "output_type": "stream",
     "text": [
      "[1 2 3 4 5 6 7 8 9]\n",
      "[2 3 4]\n",
      "9\n"
     ]
    }
   ],
   "source": [
    "##indexing and slicing in arry\n",
    "##starting from 1d arry\n",
    "arr2 = np.arange(1, 10)\n",
    "print(arr2)\n",
    "print(arr2[1:4])##this is slicing\n",
    "print(arr2[-1])## this is indexing\n",
    "\n"
   ]
  },
  {
   "cell_type": "code",
   "execution_count": 408,
   "id": "0bd71df8",
   "metadata": {},
   "outputs": [
    {
     "data": {
      "text/plain": [
       "array([[ 59,  58,  57,  56,  55,  54,  53,  52,  51,  50],\n",
       "       [ 49,  48,  47,  46,  45,  44,  43, 100,  41,  40],\n",
       "       [ 39,  38,  37,  36,  35,  34,  33,  32,  31,  30],\n",
       "       [ 29,  28,  27,  26,  25,  24,  23,  22,  21,  20],\n",
       "       [ 19,  18,  17,  16,  15,  14,  13,  12,  11,  10],\n",
       "       [  9,   8,   7,   6,   5,   4,   3,   2,   1,   0]])"
      ]
     },
     "execution_count": 408,
     "metadata": {},
     "output_type": "execute_result"
    }
   ],
   "source": [
    "##this is how a 2d slicing is work in arry\n",
    "# arr8[5:6,2:3][0][0]\n",
    "arr8[::-1,::-1]\n",
    "\n"
   ]
  },
  {
   "cell_type": "code",
   "execution_count": 418,
   "id": "062e3bf2",
   "metadata": {},
   "outputs": [
    {
     "name": "stdout",
     "output_type": "stream",
     "text": [
      "[[[  0   1   2   3   4]\n",
      "  [  5   6   7   8   9]\n",
      "  [ 10  11  12  13  14]\n",
      "  [ 15  16  17  18  19]\n",
      "  [ 20  21  22  23  24]\n",
      "  [ 25  26  27  28  29]\n",
      "  [ 30  31  32  33  34]\n",
      "  [ 35  36  37  38  39]\n",
      "  [ 40  41  42  43  44]\n",
      "  [ 45  46  47  48  49]\n",
      "  [ 50  51  52  53  54]\n",
      "  [ 55  56  57  58  59]\n",
      "  [ 60  61  62  63  64]\n",
      "  [ 65  66  67  68  69]\n",
      "  [ 70  71  72  73  74]]\n",
      "\n",
      " [[ 75  76  77  78  79]\n",
      "  [ 80  81  82  83  84]\n",
      "  [ 85  86  87  88  89]\n",
      "  [ 90  91  92  93  94]\n",
      "  [ 95  96  97  98  99]\n",
      "  [100 101 102 103 104]\n",
      "  [105 106 107 108 109]\n",
      "  [110 111 112 113 114]\n",
      "  [115 116 117 118 119]\n",
      "  [120 121 122 123 124]\n",
      "  [125 126 127 128 129]\n",
      "  [130 131 132 133 134]\n",
      "  [135 136 137 138 139]\n",
      "  [140 141 142 143 144]\n",
      "  [145 146 147 148 149]]\n",
      "\n",
      " [[150 151 152 153 154]\n",
      "  [155 156 157 158 159]\n",
      "  [160 161 162 163 164]\n",
      "  [165 166 167 168 169]\n",
      "  [170 171 172 173 174]\n",
      "  [175 176 177 178 179]\n",
      "  [180 181 182 183 184]\n",
      "  [185 186 187 188 189]\n",
      "  [190 191 192 193 194]\n",
      "  [195 196 197 198 199]\n",
      "  [200 201 202 203 204]\n",
      "  [205 206 207 208 209]\n",
      "  [210 211 212 213 214]\n",
      "  [215 216 217 218 219]\n",
      "  [220 221 222 223 224]]]\n"
     ]
    }
   ],
   "source": [
    "## this is how a  3d matrix is done\n",
    "arr10 = np.arange(225).reshape(3, 15, 5)  # 3 × 15 × 5 = 225\n",
    "print(arr10)\n"
   ]
  },
  {
   "cell_type": "code",
   "execution_count": 427,
   "id": "c7c7b486",
   "metadata": {},
   "outputs": [
    {
     "data": {
      "text/plain": [
       "array([[[1., 1.],\n",
       "        [1., 1.],\n",
       "        [1., 1.]],\n",
       "\n",
       "       [[1., 1.],\n",
       "        [1., 1.],\n",
       "        [1., 1.]],\n",
       "\n",
       "       [[1., 1.],\n",
       "        [1., 1.],\n",
       "        [1., 1.]]])"
      ]
     },
     "execution_count": 427,
     "metadata": {},
     "output_type": "execute_result"
    }
   ],
   "source": [
    "arr11 = np.ones((3,4,5))##this is the aother way to create  3d  array in python\n",
    "arr11[0:,1:4,2:4]\n"
   ]
  },
  {
   "cell_type": "code",
   "execution_count": 436,
   "id": "aead5f0d",
   "metadata": {},
   "outputs": [
    {
     "data": {
      "text/plain": [
       "array([[  0,   1,   2,   3,   4,   5,   6,   7,   8,   9],\n",
       "       [ 10,  11,  12,  13,  14,  15,  16,  17,  18,  19],\n",
       "       [ 20,  21,  22,  23,  24,  25,  26,  27,  28,  29],\n",
       "       [ 30,  31,  32,  33,  34,  35,  36,  37,  38,  39],\n",
       "       [ 40,  41,  43,  44,  45,  46,  47,  48,  49, 100],\n",
       "       [ 50,  51,  52,  53,  54,  55,  56,  57,  58,  59]])"
      ]
     },
     "execution_count": 436,
     "metadata": {},
     "output_type": "execute_result"
    }
   ],
   "source": [
    "np.max(arr8)\n",
    "np.min(arr8)\n",
    "np.mean(arr8)\n",
    "np.median(arr8)\n",
    "np.std(arr8)\n",
    "arr8.sort()\n",
    "arr8\n",
    "\n",
    "\n"
   ]
  },
  {
   "cell_type": "code",
   "execution_count": null,
   "id": "6e6aa073",
   "metadata": {},
   "outputs": [],
   "source": [
    "arr11 = np.array([2,5,1,9])\n",
    "arr11.argsort()"
   ]
  }
 ],
 "metadata": {
  "kernelspec": {
   "display_name": "base",
   "language": "python",
   "name": "python3"
  },
  "language_info": {
   "codemirror_mode": {
    "name": "ipython",
    "version": 3
   },
   "file_extension": ".py",
   "mimetype": "text/x-python",
   "name": "python",
   "nbconvert_exporter": "python",
   "pygments_lexer": "ipython3",
   "version": "3.12.7"
  }
 },
 "nbformat": 4,
 "nbformat_minor": 5
}
