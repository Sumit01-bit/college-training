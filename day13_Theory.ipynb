{
 "cells": [
  {
   "cell_type": "code",
   "execution_count": null,
   "id": "3b20e8c6",
   "metadata": {},
   "outputs": [],
   "source": [
    "# relationship x and y\n",
    "# best Straight line\n",
    "# y = mx + c\n",
    "# is a method to model the relationship between two variables by fitting a linear equation to observed data. The equation of the line is represented as y = mx + c, where m is the slope and c is the y-intercept. The goal is to find the best-fitting line that minimizes the difference between the predicted values and the actual data points.\n",
    "# model evaluation\n",
    "# R-squared (R²) , Adjusted R-squared, RMSE, MAE\n",
    "# marks[10,20,30,40,50,60,70,80,90,100]\n",
    "# avg = marks/ 10= 55\n",
    "\n"
   ]
  }
 ],
 "metadata": {
  "language_info": {
   "name": "python"
  }
 },
 "nbformat": 4,
 "nbformat_minor": 5
}
